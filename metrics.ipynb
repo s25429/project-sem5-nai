{
 "cells": [
  {
   "cell_type": "code",
   "execution_count": 2,
   "metadata": {},
   "outputs": [
    {
     "name": "stderr",
     "output_type": "stream",
     "text": [
      "C:\\Users\\Horacy\\AppData\\Local\\Temp\\ipykernel_12444\\4080736814.py:1: DeprecationWarning: \n",
      "Pyarrow will become a required dependency of pandas in the next major release of pandas (pandas 3.0),\n",
      "(to allow more performant data types, such as the Arrow string type, and better interoperability with other libraries)\n",
      "but was not found to be installed on your system.\n",
      "If this would cause problems for you,\n",
      "please provide us feedback at https://github.com/pandas-dev/pandas/issues/54466\n",
      "        \n",
      "  import pandas as pd\n"
     ]
    }
   ],
   "source": [
    "import pandas as pd"
   ]
  },
  {
   "cell_type": "code",
   "execution_count": 11,
   "metadata": {},
   "outputs": [],
   "source": [
    "from models.raw.bert import process_message as bert_process_message\n",
    "from models.raw.openai import process_message as chatgpt_process_message\n",
    "from models.raw.spacy import process_message as spacy_process_message"
   ]
  },
  {
   "cell_type": "code",
   "execution_count": 6,
   "metadata": {},
   "outputs": [
    {
     "name": "stdout",
     "output_type": "stream",
     "text": [
      "                                                    0\n",
      "0   The messages will be unwrapped by sculptor Ric...\n",
      "1   A film based on the internet musings of the \"B...\n",
      "2   Bridget Jones: The Edge of Reason was named Ev...\n",
      "3   \"Journalists are the lifeblood of any newspape...\n",
      "4   In addition, if a flight is cancelled or delay...\n",
      "..                                                ...\n",
      "95  Film star Robert De Niro has returned to the t...\n",
      "96  The Last Samurai, starring Tom Cruise, was the...\n",
      "97  \"When I was 15 years old I asked my mom if it ...\n",
      "98  A US musicologist has recreated a lost musical...\n",
      "99  India has ordered the deportation of Iranian-b...\n",
      "\n",
      "[100 rows x 1 columns]\n"
     ]
    }
   ],
   "source": [
    "df = pd.read_csv('./data/in.csv', header=None)\n",
    "print(df)"
   ]
  },
  {
   "cell_type": "code",
   "execution_count": 12,
   "metadata": {},
   "outputs": [],
   "source": [
    "predictions = {\n",
    "    \"bert\": [],\n",
    "    \"chatgpt\": [],\n",
    "    \"spacy\": [],\n",
    "}"
   ]
  },
  {
   "cell_type": "code",
   "execution_count": 13,
   "metadata": {},
   "outputs": [],
   "source": [
    "for index, row in df.iterrows():\n",
    "    message = row[0]\n",
    "    predictions['bert'].append(bert_process_message(message))\n",
    "    predictions['chatgpt'].append(chatgpt_process_message(message))\n",
    "    predictions['spacy'].append(spacy_process_message(message))"
   ]
  },
  {
   "cell_type": "code",
   "execution_count": 16,
   "metadata": {},
   "outputs": [
    {
     "name": "stdout",
     "output_type": "stream",
     "text": [
      "                                                    0\n",
      "0                                   Richard Wentworth\n",
      "1    Theo Van Gogh, Salam Pax, Oday Rasheed, Van Gogh\n",
      "2   Bridget Jones, Vera Drake, Leigh, Staunton, Os...\n",
      "3                Murdoch MacLennan, Barry Fitzpatrick\n",
      "4                                 Clarke, Andy Clarke\n",
      "..                                                ...\n",
      "95  Robert De Niro, De Niro, Clint Eastwood, Howar...\n",
      "96                                         Tom Cruise\n",
      "97                               Reeves, Keanu Reeves\n",
      "98  Johann Sebastian Bach, Joshua Rifkin, Bach, Ba...\n",
      "99               Negar Khan, Bipin Bihari, Khan, Khan\n",
      "\n",
      "[100 rows x 1 columns]\n"
     ]
    }
   ],
   "source": [
    "df2 = pd.read_csv('./data/out.csv', header=None)\n",
    "print(df2)"
   ]
  },
  {
   "cell_type": "code",
   "execution_count": 29,
   "metadata": {},
   "outputs": [],
   "source": [
    "metrics = {\n",
    "    \"bert\": {\n",
    "        \"ground_truth\": [],\n",
    "        \"correct_predictions\": [],\n",
    "        \"accuracy\": [],\n",
    "        \"precision\": [],\n",
    "        \"recall\": [],\n",
    "        \"f1_score\": [],\n",
    "    },\n",
    "    \"chatgpt\": {\n",
    "        \"ground_truth\": [],\n",
    "        \"correct_predictions\": [],\n",
    "        \"accuracy\": [],\n",
    "        \"precision\": [],\n",
    "        \"recall\": [],\n",
    "        \"f1_score\": [],\n",
    "    },\n",
    "    \"spacy\": {\n",
    "        \"ground_truth\": [],\n",
    "        \"correct_predictions\": [],\n",
    "        \"accuracy\": [],\n",
    "        \"precision\": [],\n",
    "        \"recall\": [],\n",
    "        \"f1_score\": [],\n",
    "    }\n",
    "}\n",
    "\n",
    "for index, row in df2.iterrows():\n",
    "    ground = row[0].split(', ')\n",
    "\n",
    "    metrics[\"bert\"][\"ground_truth\"].append(ground)\n",
    "    metrics[\"chatgpt\"][\"ground_truth\"].append(ground)\n",
    "    metrics[\"spacy\"][\"ground_truth\"].append(ground)\n",
    "    \n",
    "    correct_predictions = {\n",
    "        \"bert\": set(ground).intersection(set(predictions[\"bert\"][index])),\n",
    "        \"chatgpt\": set(ground).intersection(set(predictions[\"chatgpt\"][index])),\n",
    "        \"spacy\": set(ground).intersection(set(predictions[\"spacy\"][index])),\n",
    "    }\n",
    "\n",
    "    metrics[\"bert\"][\"correct_predictions\"].append(correct_predictions[\"bert\"])\n",
    "    metrics[\"chatgpt\"][\"correct_predictions\"].append(correct_predictions[\"chatgpt\"])\n",
    "    metrics[\"spacy\"][\"correct_predictions\"].append(correct_predictions[\"spacy\"])\n",
    "\n",
    "    accuracy = {\n",
    "        \"bert\": len(correct_predictions[\"bert\"]) / len(predictions[\"bert\"]),\n",
    "        \"chatgpt\": len(correct_predictions[\"chatgpt\"]) / len(predictions[\"chatgpt\"]),\n",
    "        \"spacy\": len(correct_predictions[\"spacy\"]) / len(predictions[\"spacy\"]),\n",
    "    }\n",
    "\n",
    "    metrics[\"bert\"][\"accuracy\"].append(accuracy[\"bert\"])\n",
    "    metrics[\"chatgpt\"][\"accuracy\"].append(accuracy[\"chatgpt\"])\n",
    "    metrics[\"spacy\"][\"accuracy\"].append(accuracy[\"spacy\"])\n",
    "\n",
    "    true_positives = {\n",
    "        \"bert\": correct_predictions[\"bert\"],\n",
    "        \"chatgpt\": correct_predictions[\"chatgpt\"],\n",
    "        \"spacy\": correct_predictions[\"spacy\"],\n",
    "    }\n",
    "\n",
    "    false_positives = {\n",
    "        \"bert\": set(predictions[\"bert\"][index]) - set(ground),\n",
    "        \"chatgpt\": set(predictions[\"chatgpt\"][index]) - set(ground),\n",
    "        \"spacy\": set(predictions[\"spacy\"][index]) - set(ground),\n",
    "    }\n",
    "\n",
    "    prec_bert_div = len(true_positives[\"bert\"]) + len(false_positives[\"bert\"])\n",
    "    prec_chatgpt_div = len(true_positives[\"chatgpt\"]) + len(false_positives[\"chatgpt\"])\n",
    "    prec_spacy_div = len(true_positives[\"spacy\"]) + len(false_positives[\"spacy\"])\n",
    "\n",
    "    precision = {\n",
    "        \"bert\": len(true_positives[\"bert\"]) / (prec_bert_div if prec_bert_div != 0 else 1),\n",
    "        \"chatgpt\": len(true_positives[\"chatgpt\"]) / (prec_chatgpt_div if prec_chatgpt_div != 0 else 1),\n",
    "        \"spacy\": len(true_positives[\"spacy\"]) / (prec_spacy_div if prec_spacy_div != 0 else 1),\n",
    "    }\n",
    "\n",
    "    metrics[\"bert\"][\"precision\"].append(precision[\"bert\"])\n",
    "    metrics[\"chatgpt\"][\"precision\"].append(precision[\"chatgpt\"])\n",
    "    metrics[\"spacy\"][\"precision\"].append(precision[\"spacy\"])\n",
    "\n",
    "    false_negative = {\n",
    "        \"bert\": set(ground) - set(predictions[\"bert\"][index]),\n",
    "        \"chatgpt\": set(ground) - set(predictions[\"chatgpt\"][index]),\n",
    "        \"spacy\": set(ground) - set(predictions[\"spacy\"][index]),\n",
    "    }\n",
    "\n",
    "    recall = {\n",
    "        \"bert\": len(true_positives[\"bert\"]) / (len(true_positives[\"bert\"]) + len(false_negative[\"bert\"])),\n",
    "        \"chatgpt\": len(true_positives[\"chatgpt\"]) / (len(true_positives[\"chatgpt\"]) + len(false_negative[\"chatgpt\"])),\n",
    "        \"spacy\": len(true_positives[\"spacy\"]) / (len(true_positives[\"spacy\"]) + len(false_negative[\"spacy\"])),\n",
    "    }\n",
    "\n",
    "    metrics[\"bert\"][\"recall\"].append(recall[\"bert\"])\n",
    "    metrics[\"chatgpt\"][\"recall\"].append(recall[\"chatgpt\"])\n",
    "    metrics[\"spacy\"][\"recall\"].append(recall[\"spacy\"])\n",
    "\n",
    "    f1_bert_div = precision[\"bert\"] + recall[\"bert\"]\n",
    "    f1_chatgpt_div = precision[\"chatgpt\"] + recall[\"chatgpt\"]\n",
    "    f1_spacy_div = precision[\"spacy\"] + recall[\"spacy\"]\n",
    "    \n",
    "    f1_score = {\n",
    "        \"bert\": 2 * (precision[\"bert\"] * recall[\"bert\"]) / (f1_bert_div if f1_bert_div != 0 else 1),\n",
    "        \"chatgpt\": 2 * (precision[\"chatgpt\"] * recall[\"chatgpt\"]) / (f1_chatgpt_div if f1_chatgpt_div != 0 else 1),\n",
    "        \"spacy\": 2 * (precision[\"spacy\"] * recall[\"spacy\"]) / (f1_spacy_div if f1_spacy_div != 0 else 1),\n",
    "    }\n",
    "\n",
    "    metrics[\"bert\"][\"f1_score\"].append(f1_score[\"bert\"])\n",
    "    metrics[\"chatgpt\"][\"f1_score\"].append(f1_score[\"chatgpt\"])\n",
    "    metrics[\"spacy\"][\"f1_score\"].append(f1_score[\"spacy\"])"
   ]
  },
  {
   "cell_type": "code",
   "execution_count": 32,
   "metadata": {},
   "outputs": [],
   "source": [
    "results = {\n",
    "    \"bert\": {\n",
    "        \"accuracy\": sum(metrics[\"bert\"][\"accuracy\"]) / len(metrics[\"bert\"][\"accuracy\"]),\n",
    "        \"precision\": sum(metrics[\"bert\"][\"precision\"]) / len(metrics[\"bert\"][\"precision\"]),\n",
    "        \"recall\": sum(metrics[\"bert\"][\"recall\"]) / len(metrics[\"bert\"][\"recall\"]),\n",
    "        \"f1_score\": sum(metrics[\"bert\"][\"f1_score\"]) / len(metrics[\"bert\"][\"f1_score\"]),\n",
    "    },\n",
    "    \"chatgpt\": {\n",
    "        \"accuracy\": sum(metrics[\"chatgpt\"][\"accuracy\"]) / len(metrics[\"chatgpt\"][\"accuracy\"]),\n",
    "        \"precision\": sum(metrics[\"chatgpt\"][\"precision\"]) / len(metrics[\"chatgpt\"][\"precision\"]),\n",
    "        \"recall\": sum(metrics[\"chatgpt\"][\"recall\"]) / len(metrics[\"chatgpt\"][\"recall\"]),\n",
    "        \"f1_score\": sum(metrics[\"chatgpt\"][\"f1_score\"]) / len(metrics[\"chatgpt\"][\"f1_score\"]),\n",
    "    },\n",
    "    \"spacy\": {\n",
    "        \"accuracy\": sum(metrics[\"spacy\"][\"accuracy\"]) / len(metrics[\"spacy\"][\"accuracy\"]),\n",
    "        \"precision\": sum(metrics[\"spacy\"][\"precision\"]) / len(metrics[\"spacy\"][\"precision\"]),\n",
    "        \"recall\": sum(metrics[\"spacy\"][\"recall\"]) / len(metrics[\"spacy\"][\"recall\"]),\n",
    "        \"f1_score\": sum(metrics[\"spacy\"][\"f1_score\"]) / len(metrics[\"spacy\"][\"f1_score\"]),\n",
    "    },\n",
    "}"
   ]
  },
  {
   "cell_type": "code",
   "execution_count": 34,
   "metadata": {},
   "outputs": [
    {
     "name": "stdout",
     "output_type": "stream",
     "text": [
      "{'accuracy': 0.0069000000000000025, 'precision': 0.12336671661671657, 'recall': 0.12701356976356976, 'f1_score': 0.12291174530623733}\n",
      "{'accuracy': 0.036699999999999955, 'precision': 0.7918882053618894, 'recall': 0.699369612843297, 'f1_score': 0.7196617554272349}\n",
      "{'accuracy': 0.036499999999999984, 'precision': 0.7498587580719935, 'recall': 0.6895277704751389, 'f1_score': 0.7019123740896183}\n"
     ]
    }
   ],
   "source": [
    "print(results[\"bert\"])\n",
    "print(results[\"chatgpt\"])\n",
    "print(results[\"spacy\"])"
   ]
  },
  {
   "cell_type": "code",
   "execution_count": 35,
   "metadata": {},
   "outputs": [],
   "source": [
    "metrics_df = pd.DataFrame.from_dict(metrics)\n",
    "results_df = pd.DataFrame.from_dict(results)"
   ]
  },
  {
   "cell_type": "code",
   "execution_count": 38,
   "metadata": {},
   "outputs": [],
   "source": [
    "metrics_df.to_csv('./data/metrics.csv', index=False, header=True)\n",
    "results_df.to_csv('./data/results.csv', index=False, header=True)"
   ]
  }
 ],
 "metadata": {
  "kernelspec": {
   "display_name": "venv",
   "language": "python",
   "name": "python3"
  },
  "language_info": {
   "codemirror_mode": {
    "name": "ipython",
    "version": 3
   },
   "file_extension": ".py",
   "mimetype": "text/x-python",
   "name": "python",
   "nbconvert_exporter": "python",
   "pygments_lexer": "ipython3",
   "version": "3.10.2"
  }
 },
 "nbformat": 4,
 "nbformat_minor": 2
}
